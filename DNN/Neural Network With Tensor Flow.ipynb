{
 "cells": [
  {
   "cell_type": "markdown",
   "metadata": {},
   "source": [
    "# Lib with dataset"
   ]
  },
  {
   "cell_type": "code",
   "execution_count": 1,
   "metadata": {},
   "outputs": [
    {
     "name": "stdout",
     "output_type": "stream",
     "text": [
      "WARNING:tensorflow:From <ipython-input-1-726b3551fa3c>:4: read_data_sets (from tensorflow.contrib.learn.python.learn.datasets.mnist) is deprecated and will be removed in a future version.\n",
      "Instructions for updating:\n",
      "Please use alternatives such as official/mnist/dataset.py from tensorflow/models.\n",
      "WARNING:tensorflow:From /home/fawad/anaconda3/lib/python3.6/site-packages/tensorflow/contrib/learn/python/learn/datasets/mnist.py:260: maybe_download (from tensorflow.contrib.learn.python.learn.datasets.base) is deprecated and will be removed in a future version.\n",
      "Instructions for updating:\n",
      "Please write your own downloading logic.\n",
      "WARNING:tensorflow:From /home/fawad/anaconda3/lib/python3.6/site-packages/tensorflow/contrib/learn/python/learn/datasets/base.py:252: _internal_retry.<locals>.wrap.<locals>.wrapped_fn (from tensorflow.contrib.learn.python.learn.datasets.base) is deprecated and will be removed in a future version.\n",
      "Instructions for updating:\n",
      "Please use urllib or similar directly.\n",
      "Successfully downloaded train-images-idx3-ubyte.gz 9912422 bytes.\n",
      "WARNING:tensorflow:From /home/fawad/anaconda3/lib/python3.6/site-packages/tensorflow/contrib/learn/python/learn/datasets/mnist.py:262: extract_images (from tensorflow.contrib.learn.python.learn.datasets.mnist) is deprecated and will be removed in a future version.\n",
      "Instructions for updating:\n",
      "Please use tf.data to implement this functionality.\n",
      "Extracting /tmp/data/train-images-idx3-ubyte.gz\n",
      "Successfully downloaded train-labels-idx1-ubyte.gz 28881 bytes.\n",
      "WARNING:tensorflow:From /home/fawad/anaconda3/lib/python3.6/site-packages/tensorflow/contrib/learn/python/learn/datasets/mnist.py:267: extract_labels (from tensorflow.contrib.learn.python.learn.datasets.mnist) is deprecated and will be removed in a future version.\n",
      "Instructions for updating:\n",
      "Please use tf.data to implement this functionality.\n",
      "Extracting /tmp/data/train-labels-idx1-ubyte.gz\n",
      "WARNING:tensorflow:From /home/fawad/anaconda3/lib/python3.6/site-packages/tensorflow/contrib/learn/python/learn/datasets/mnist.py:110: dense_to_one_hot (from tensorflow.contrib.learn.python.learn.datasets.mnist) is deprecated and will be removed in a future version.\n",
      "Instructions for updating:\n",
      "Please use tf.one_hot on tensors.\n",
      "Successfully downloaded t10k-images-idx3-ubyte.gz 1648877 bytes.\n",
      "Extracting /tmp/data/t10k-images-idx3-ubyte.gz\n",
      "Successfully downloaded t10k-labels-idx1-ubyte.gz 4542 bytes.\n",
      "Extracting /tmp/data/t10k-labels-idx1-ubyte.gz\n",
      "WARNING:tensorflow:From /home/fawad/anaconda3/lib/python3.6/site-packages/tensorflow/contrib/learn/python/learn/datasets/mnist.py:290: DataSet.__init__ (from tensorflow.contrib.learn.python.learn.datasets.mnist) is deprecated and will be removed in a future version.\n",
      "Instructions for updating:\n",
      "Please use alternatives such as official/mnist/dataset.py from tensorflow/models.\n"
     ]
    }
   ],
   "source": [
    "import tensorflow as tf\n",
    "from tensorflow.examples.tutorials.mnist import input_data\n",
    "# Import the mnist data \n",
    "mnist = input_data.read_data_sets(\"/tmp/data/\", one_hot = True)"
   ]
  },
  {
   "cell_type": "markdown",
   "metadata": {},
   "source": [
    "### Defining the network"
   ]
  },
  {
   "cell_type": "code",
   "execution_count": 2,
   "metadata": {
    "collapsed": true
   },
   "outputs": [],
   "source": [
    "Nodes_In_h1= 500 # n_nodes_hl1\n",
    "Nodes_In_h2= 500\n",
    "Nodes_In_h3= 500\n",
    "\n",
    "Classes_no = 10  #n_classes\n",
    "Size_Of_batch = 100 # batch_size\n",
    "\n",
    "x = tf.placeholder('float', [None, 784]) # 28 * 28 =784 # placeholder creats the desired format for tensor\n",
    "y = tf.placeholder('float')"
   ]
  },
  {
   "cell_type": "code",
   "execution_count": 3,
   "metadata": {
    "collapsed": true
   },
   "outputs": [],
   "source": [
    "#### Defining the layers \n",
    "# layer one  ===> 784 inputs and they goes to Nodes_In_h1 nodes and biases is equal to the no of nodes\n",
    "# layer two  ===> Nodes_In_h1 inputs and they goes to Nodes_In_h2 nodes and biases is equal to Nodes_In_h2\n",
    "####\n",
    "hidden_layer1 = {'weights':tf.Variable(tf.random_normal([784, Nodes_In_h1])),\n",
    "                      'biases':tf.Variable(tf.random_normal([Nodes_In_h1]))}\n",
    "\n",
    "hidden_layer2 = {'weights':tf.Variable(tf.random_normal([Nodes_In_h1, Nodes_In_h2])),\n",
    "                      'biases':tf.Variable(tf.random_normal([Nodes_In_h2]))}\n",
    "\n",
    "hidden_layer3 = {'weights':tf.Variable(tf.random_normal([Nodes_In_h2, Nodes_In_h3])),\n",
    "                      'biases':tf.Variable(tf.random_normal([Nodes_In_h3]))}\n",
    "# Output layer reduces the no of inputs to no of classes\n",
    "output_layer = {'weights':tf.Variable(tf.random_normal([Nodes_In_h3, Classes_no])),\n",
    "                    'biases':tf.Variable(tf.random_normal([Classes_no])),}\n"
   ]
  },
  {
   "cell_type": "markdown",
   "metadata": {},
   "source": [
    "### Implementing the neural network"
   ]
  },
  {
   "cell_type": "code",
   "execution_count": 4,
   "metadata": {
    "collapsed": true
   },
   "outputs": [],
   "source": [
    "def neural_network_tf_model(data):\n",
    "    \n",
    "    # BY USING FORMULA  y = Wx + b we get the output of a layer \n",
    "    Output_Of_layer1 = tf.add(tf.matmul(data,hidden_layer1['weights']), hidden_layer1['biases']) # wx + b \n",
    "    # to make it non_linear we use relu on the layer\n",
    "    Output_Of_layer1  = tf.nn.relu(Output_Of_layer1 )\n",
    "\n",
    "    Output_Of_layer2 = tf.add(tf.matmul(Output_Of_layer1,hidden_layer2['weights']), hidden_layer2['biases'])\n",
    "    Output_Of_layer2 = tf.nn.relu(Output_Of_layer2)\n",
    "\n",
    "    Output_Of_layer3 = tf.add(tf.matmul(Output_Of_layer2,hidden_layer3['weights']), hidden_layer3['biases'])\n",
    "    Output_Of_layer3 = tf.nn.relu(Output_Of_layer3)\n",
    "\n",
    "    output = tf.matmul(Output_Of_layer3,output_layer['weights']) + output_layer['biases']\n",
    "\n",
    "    return output"
   ]
  },
  {
   "cell_type": "markdown",
   "metadata": {},
   "source": [
    "### Training network function"
   ]
  },
  {
   "cell_type": "code",
   "execution_count": 5,
   "metadata": {
    "collapsed": true
   },
   "outputs": [],
   "source": [
    "def train_neural_network(x):\n",
    "    \n",
    "    prediction = neural_network_tf_model(x)\n",
    "    # This cost function reduces the error \n",
    "    cost = tf.reduce_mean( tf.nn.softmax_cross_entropy_with_logits(logits=prediction, labels=y) )\n",
    "    # optimizer optimize that further\n",
    "    optimizer = tf.train.AdamOptimizer().minimize(cost)\n",
    "    \n",
    "    hm_epochs = 10\n",
    "    \n",
    "    with tf.Session() as sess:\n",
    "        # initialize the session\n",
    "        sess.run(tf.global_variables_initializer())\n",
    "\n",
    "        for epoch in range(hm_epochs):\n",
    "            epoch_loss = 0\n",
    "            for _ in range(int(mnist.train.num_examples/Size_Of_batch)):\n",
    "                # Below function will give us the batch size x and y \n",
    "                epoch_x, epoch_y = mnist.train.next_batch(Size_Of_batch)\n",
    "                # this will run the batches through the tensor flow network \n",
    "                _, c = sess.run([optimizer, cost], feed_dict={x: epoch_x, y: epoch_y})\n",
    "                \n",
    "                epoch_loss += c\n",
    "\n",
    "            print('Epoch', epoch, 'completed out of',hm_epochs,'loss:',epoch_loss)\n",
    "\n",
    "        correct = tf.equal(tf.argmax(prediction, 1), tf.argmax(y, 1))\n",
    "\n",
    "        accuracy = tf.reduce_mean(tf.cast(correct, 'float'))\n",
    "        print('Accuracy:',accuracy.eval({x:mnist.test.images, y:mnist.test.labels}))\n"
   ]
  },
  {
   "cell_type": "code",
   "execution_count": 6,
   "metadata": {},
   "outputs": [
    {
     "name": "stdout",
     "output_type": "stream",
     "text": [
      "WARNING:tensorflow:From <ipython-input-5-c61454ab7112>:5: softmax_cross_entropy_with_logits (from tensorflow.python.ops.nn_ops) is deprecated and will be removed in a future version.\n",
      "Instructions for updating:\n",
      "\n",
      "Future major versions of TensorFlow will allow gradients to flow\n",
      "into the labels input on backprop by default.\n",
      "\n",
      "See @{tf.nn.softmax_cross_entropy_with_logits_v2}.\n",
      "\n",
      "Epoch 0 completed out of 10 loss: 1833721.6414489746\n",
      "Epoch 1 completed out of 10 loss: 421932.201133728\n",
      "Epoch 2 completed out of 10 loss: 234117.34573364258\n",
      "Epoch 3 completed out of 10 loss: 140348.45309352875\n",
      "Epoch 4 completed out of 10 loss: 84657.04030996561\n",
      "Epoch 5 completed out of 10 loss: 55195.389233870505\n",
      "Epoch 6 completed out of 10 loss: 38678.23052672104\n",
      "Epoch 7 completed out of 10 loss: 27470.829471292498\n",
      "Epoch 8 completed out of 10 loss: 22734.836769002362\n",
      "Epoch 9 completed out of 10 loss: 19982.274904295802\n",
      "Accuracy: 0.9523\n"
     ]
    }
   ],
   "source": [
    "train_neural_network(x)"
   ]
  },
  {
   "cell_type": "code",
   "execution_count": null,
   "metadata": {
    "collapsed": true
   },
   "outputs": [],
   "source": []
  }
 ],
 "metadata": {
  "kernelspec": {
   "display_name": "Python 3",
   "language": "python",
   "name": "python3"
  },
  "language_info": {
   "codemirror_mode": {
    "name": "ipython",
    "version": 3
   },
   "file_extension": ".py",
   "mimetype": "text/x-python",
   "name": "python",
   "nbconvert_exporter": "python",
   "pygments_lexer": "ipython3",
   "version": "3.6.3"
  }
 },
 "nbformat": 4,
 "nbformat_minor": 2
}
