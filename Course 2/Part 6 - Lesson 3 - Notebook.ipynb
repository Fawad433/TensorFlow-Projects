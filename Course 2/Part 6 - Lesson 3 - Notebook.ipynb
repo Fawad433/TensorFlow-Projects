{
  "cells": [
    {
      "cell_type": "markdown",
      "metadata": {
        "id": "view-in-github",
        "colab_type": "text"
      },
      "source": [
        "<a href=\"https://colab.research.google.com/github/Fawad433/TensorFlow-Projects/blob/master/Course%202/Part%206%20-%20Lesson%203%20-%20Notebook.ipynb\" target=\"_parent\"><img src=\"https://colab.research.google.com/assets/colab-badge.svg\" alt=\"Open In Colab\"/></a>"
      ]
    },
    {
      "cell_type": "markdown",
      "metadata": {
        "id": "rX8mhOLljYeM"
      },
      "source": [
        "##### Copyright 2019 The TensorFlow Authors."
      ]
    },
    {
      "cell_type": "code",
      "execution_count": null,
      "metadata": {
        "cellView": "form",
        "id": "BZSlp3DAjdYf"
      },
      "outputs": [],
      "source": [
        "#@title Licensed under the Apache License, Version 2.0 (the \"License\");\n",
        "# you may not use this file except in compliance with the License.\n",
        "# You may obtain a copy of the License at\n",
        "#\n",
        "# https://www.apache.org/licenses/LICENSE-2.0\n",
        "#\n",
        "# Unless required by applicable law or agreed to in writing, software\n",
        "# distributed under the License is distributed on an \"AS IS\" BASIS,\n",
        "# WITHOUT WARRANTIES OR CONDITIONS OF ANY KIND, either express or implied.\n",
        "# See the License for the specific language governing permissions and\n",
        "# limitations under the License."
      ]
    },
    {
      "cell_type": "code",
      "execution_count": null,
      "metadata": {
        "id": "1xJZ5glPPCRz"
      },
      "outputs": [],
      "source": [
        "import os\n",
        "\n",
        "from tensorflow.keras import layers\n",
        "from tensorflow.keras import Model\n",
        "!wget --no-check-certificate \\\n",
        "    https://storage.googleapis.com/mledu-datasets/inception_v3_weights_tf_dim_ordering_tf_kernels_notop.h5 \\\n",
        "    -O /tmp/inception_v3_weights_tf_dim_ordering_tf_kernels_notop.h5\n",
        "  \n",
        "from tensorflow.keras.applications.inception_v3 import InceptionV3\n",
        "\n",
        "local_weights_file = '/tmp/inception_v3_weights_tf_dim_ordering_tf_kernels_notop.h5'\n",
        "\n",
        "pre_trained_model = InceptionV3(input_shape = (150, 150, 3), \n",
        "                                include_top = False, \n",
        "                                weights = None)\n",
        "\n",
        "pre_trained_model.load_weights(local_weights_file)\n",
        "\n",
        "for layer in pre_trained_model.layers:\n",
        "  layer.trainable = False\n",
        "  \n",
        "# pre_trained_model.summary()\n",
        "\n",
        "last_layer = pre_trained_model.get_layer('mixed7')\n",
        "print('last layer output shape: ', last_layer.output_shape)\n",
        "last_output = last_layer.output"
      ]
    },
    {
      "cell_type": "code",
      "execution_count": null,
      "metadata": {
        "id": "BMXb913pbvFg"
      },
      "outputs": [],
      "source": [
        "from tensorflow.keras.optimizers import RMSprop\n",
        "\n",
        "# Flatten the output layer to 1 dimension\n",
        "x = layers.Flatten()(last_output)\n",
        "# Add a fully connected layer with 1,024 hidden units and ReLU activation\n",
        "x = layers.Dense(1024, activation='relu')(x)\n",
        "# Add a dropout rate of 0.2\n",
        "x = layers.Dropout(0.2)(x)                  \n",
        "# Add a final sigmoid layer for classification\n",
        "x = layers.Dense  (1, activation='sigmoid')(x)           \n",
        "\n",
        "model = Model( pre_trained_model.input, x) \n",
        "\n",
        "model.compile(optimizer = RMSprop(lr=0.0001), \n",
        "              loss = 'binary_crossentropy', \n",
        "              metrics = ['accuracy'])\n"
      ]
    },
    {
      "cell_type": "code",
      "execution_count": null,
      "metadata": {
        "id": "O4s8HckqGlnb"
      },
      "outputs": [],
      "source": [
        "!wget --no-check-certificate \\\n",
        "        https://storage.googleapis.com/mledu-datasets/cats_and_dogs_filtered.zip \\\n",
        "       -O /tmp/cats_and_dogs_filtered.zip\n",
        "\n",
        "from tensorflow.keras.preprocessing.image import ImageDataGenerator\n",
        "\n",
        "import os\n",
        "import zipfile\n",
        "\n",
        "local_zip = '//tmp/cats_and_dogs_filtered.zip'\n",
        "\n",
        "zip_ref = zipfile.ZipFile(local_zip, 'r')\n",
        "\n",
        "zip_ref.extractall('/tmp')\n",
        "zip_ref.close()\n",
        "\n",
        "# Define our example directories and files\n",
        "base_dir = '/tmp/cats_and_dogs_filtered'\n",
        "\n",
        "train_dir = os.path.join( base_dir, 'train')\n",
        "validation_dir = os.path.join( base_dir, 'validation')\n",
        "\n",
        "\n",
        "train_cats_dir = os.path.join(train_dir, 'cats') # Directory with our training cat pictures\n",
        "train_dogs_dir = os.path.join(train_dir, 'dogs') # Directory with our training dog pictures\n",
        "validation_cats_dir = os.path.join(validation_dir, 'cats') # Directory with our validation cat pictures\n",
        "validation_dogs_dir = os.path.join(validation_dir, 'dogs')# Directory with our validation dog pictures\n",
        "\n",
        "train_cat_fnames = os.listdir(train_cats_dir)\n",
        "train_dog_fnames = os.listdir(train_dogs_dir)\n",
        "\n",
        "# Add our data-augmentation parameters to ImageDataGenerator\n",
        "train_datagen = ImageDataGenerator(rescale = 1./255.,\n",
        "                                   rotation_range = 40,\n",
        "                                   width_shift_range = 0.2,\n",
        "                                   height_shift_range = 0.2,\n",
        "                                   shear_range = 0.2,\n",
        "                                   zoom_range = 0.2,\n",
        "                                   horizontal_flip = True)\n",
        "\n",
        "# Note that the validation data should not be augmented!\n",
        "test_datagen = ImageDataGenerator( rescale = 1.0/255. )\n",
        "\n",
        "# Flow training images in batches of 20 using train_datagen generator\n",
        "train_generator = train_datagen.flow_from_directory(train_dir,\n",
        "                                                    batch_size = 20,\n",
        "                                                    class_mode = 'binary', \n",
        "                                                    target_size = (150, 150))     \n",
        "\n",
        "# Flow validation images in batches of 20 using test_datagen generator\n",
        "validation_generator =  test_datagen.flow_from_directory( validation_dir,\n",
        "                                                          batch_size  = 20,\n",
        "                                                          class_mode  = 'binary', \n",
        "                                                          target_size = (150, 150))"
      ]
    },
    {
      "cell_type": "code",
      "execution_count": 5,
      "metadata": {
        "colab": {
          "base_uri": "https://localhost:8080/"
        },
        "id": "Blhq2MAUeyGA",
        "outputId": "b104932c-bfd2-4a43-ebea-80f9f757f6eb"
      },
      "outputs": [
        {
          "output_type": "stream",
          "name": "stdout",
          "text": [
            "Epoch 1/20\n",
            "100/100 - 36s - loss: 0.3479 - accuracy: 0.8630 - val_loss: 0.1071 - val_accuracy: 0.9560 - 36s/epoch - 363ms/step\n",
            "Epoch 2/20\n",
            "100/100 - 22s - loss: 0.2251 - accuracy: 0.9050 - val_loss: 0.1343 - val_accuracy: 0.9550 - 22s/epoch - 219ms/step\n",
            "Epoch 3/20\n",
            "100/100 - 23s - loss: 0.1960 - accuracy: 0.9280 - val_loss: 0.0986 - val_accuracy: 0.9700 - 23s/epoch - 225ms/step\n",
            "Epoch 4/20\n",
            "100/100 - 22s - loss: 0.2108 - accuracy: 0.9255 - val_loss: 0.1048 - val_accuracy: 0.9590 - 22s/epoch - 223ms/step\n",
            "Epoch 5/20\n",
            "100/100 - 22s - loss: 0.1729 - accuracy: 0.9360 - val_loss: 0.1075 - val_accuracy: 0.9640 - 22s/epoch - 225ms/step\n",
            "Epoch 6/20\n",
            "100/100 - 22s - loss: 0.1886 - accuracy: 0.9350 - val_loss: 0.0923 - val_accuracy: 0.9730 - 22s/epoch - 221ms/step\n",
            "Epoch 7/20\n",
            "100/100 - 23s - loss: 0.1810 - accuracy: 0.9325 - val_loss: 0.1104 - val_accuracy: 0.9730 - 23s/epoch - 229ms/step\n",
            "Epoch 8/20\n",
            "100/100 - 22s - loss: 0.1697 - accuracy: 0.9440 - val_loss: 0.1560 - val_accuracy: 0.9470 - 22s/epoch - 219ms/step\n",
            "Epoch 9/20\n",
            "100/100 - 22s - loss: 0.1523 - accuracy: 0.9475 - val_loss: 0.1641 - val_accuracy: 0.9520 - 22s/epoch - 220ms/step\n",
            "Epoch 10/20\n",
            "100/100 - 23s - loss: 0.1450 - accuracy: 0.9505 - val_loss: 0.1255 - val_accuracy: 0.9690 - 23s/epoch - 230ms/step\n",
            "Epoch 11/20\n",
            "100/100 - 22s - loss: 0.1589 - accuracy: 0.9490 - val_loss: 0.1833 - val_accuracy: 0.9480 - 22s/epoch - 221ms/step\n",
            "Epoch 12/20\n",
            "100/100 - 23s - loss: 0.1715 - accuracy: 0.9460 - val_loss: 0.1500 - val_accuracy: 0.9560 - 23s/epoch - 226ms/step\n",
            "Epoch 13/20\n",
            "100/100 - 22s - loss: 0.1347 - accuracy: 0.9520 - val_loss: 0.1139 - val_accuracy: 0.9700 - 22s/epoch - 219ms/step\n",
            "Epoch 14/20\n",
            "100/100 - 22s - loss: 0.1462 - accuracy: 0.9485 - val_loss: 0.1331 - val_accuracy: 0.9580 - 22s/epoch - 222ms/step\n",
            "Epoch 15/20\n",
            "100/100 - 22s - loss: 0.1566 - accuracy: 0.9495 - val_loss: 0.1117 - val_accuracy: 0.9670 - 22s/epoch - 217ms/step\n",
            "Epoch 16/20\n",
            "100/100 - 22s - loss: 0.1394 - accuracy: 0.9530 - val_loss: 0.1087 - val_accuracy: 0.9700 - 22s/epoch - 218ms/step\n",
            "Epoch 17/20\n",
            "100/100 - 23s - loss: 0.1320 - accuracy: 0.9575 - val_loss: 0.1384 - val_accuracy: 0.9620 - 23s/epoch - 226ms/step\n",
            "Epoch 18/20\n",
            "100/100 - 22s - loss: 0.1186 - accuracy: 0.9595 - val_loss: 0.1794 - val_accuracy: 0.9510 - 22s/epoch - 217ms/step\n",
            "Epoch 19/20\n",
            "100/100 - 23s - loss: 0.1455 - accuracy: 0.9505 - val_loss: 0.1183 - val_accuracy: 0.9640 - 23s/epoch - 225ms/step\n",
            "Epoch 20/20\n",
            "100/100 - 22s - loss: 0.1334 - accuracy: 0.9520 - val_loss: 0.1065 - val_accuracy: 0.9710 - 22s/epoch - 219ms/step\n"
          ]
        }
      ],
      "source": [
        "history = model.fit(\n",
        "            train_generator,\n",
        "            validation_data = validation_generator,\n",
        "            steps_per_epoch = 100,\n",
        "            epochs = 20,\n",
        "            validation_steps = 50,\n",
        "            verbose = 2)"
      ]
    },
    {
      "cell_type": "code",
      "execution_count": null,
      "metadata": {
        "id": "C2Fp6Se9rKuL"
      },
      "outputs": [],
      "source": [
        "import matplotlib.pyplot as plt\n",
        "acc = history.history['accuracy']\n",
        "val_acc = history.history['val_accuracy']\n",
        "loss = history.history['loss']\n",
        "val_loss = history.history['val_loss']\n",
        "\n",
        "epochs = range(len(acc))\n",
        "\n",
        "plt.plot(epochs, acc, 'r', label='Training accuracy')\n",
        "plt.plot(epochs, val_acc, 'b', label='Validation accuracy')\n",
        "plt.title('Training and validation accuracy')\n",
        "plt.legend(loc=0)\n",
        "plt.figure()\n",
        "\n",
        "\n",
        "plt.show()"
      ]
    }
  ],
  "metadata": {
    "accelerator": "GPU",
    "colab": {
      "collapsed_sections": [],
      "name": "Course 2 - Part 6 - Lesson 3 - Notebook.ipynb",
      "provenance": [],
      "include_colab_link": true
    },
    "kernelspec": {
      "display_name": "Python 3",
      "name": "python3"
    }
  },
  "nbformat": 4,
  "nbformat_minor": 0
}