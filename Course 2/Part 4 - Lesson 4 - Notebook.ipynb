{
  "cells": [
    {
      "cell_type": "markdown",
      "metadata": {
        "id": "view-in-github",
        "colab_type": "text"
      },
      "source": [
        "<a href=\"https://colab.research.google.com/github/Fawad433/TensorFlow-Projects/blob/master/Course%202/Part%204%20-%20Lesson%204%20-%20Notebook.ipynb\" target=\"_parent\"><img src=\"https://colab.research.google.com/assets/colab-badge.svg\" alt=\"Open In Colab\"/></a>"
      ]
    },
    {
      "cell_type": "markdown",
      "metadata": {
        "id": "rX8mhOLljYeM"
      },
      "source": [
        "##### Copyright 2019 The TensorFlow Authors."
      ]
    },
    {
      "cell_type": "code",
      "execution_count": null,
      "metadata": {
        "cellView": "form",
        "id": "BZSlp3DAjdYf"
      },
      "outputs": [],
      "source": [
        "#@title Licensed under the Apache License, Version 2.0 (the \"License\");\n",
        "# you may not use this file except in compliance with the License.\n",
        "# You may obtain a copy of the License at\n",
        "#\n",
        "# https://www.apache.org/licenses/LICENSE-2.0\n",
        "#\n",
        "# Unless required by applicable law or agreed to in writing, software\n",
        "# distributed under the License is distributed on an \"AS IS\" BASIS,\n",
        "# WITHOUT WARRANTIES OR CONDITIONS OF ANY KIND, either express or implied.\n",
        "# See the License for the specific language governing permissions and\n",
        "# limitations under the License."
      ]
    },
    {
      "cell_type": "code",
      "execution_count": 1,
      "metadata": {
        "colab": {
          "base_uri": "https://localhost:8080/"
        },
        "id": "RXZT2UsyIVe_",
        "outputId": "f0e6c1d0-93ee-4912-ba08-6adea4314851"
      },
      "outputs": [
        {
          "output_type": "stream",
          "name": "stdout",
          "text": [
            "--2022-01-25 16:49:10--  https://storage.googleapis.com/laurencemoroney-blog.appspot.com/horse-or-human.zip\n",
            "Resolving storage.googleapis.com (storage.googleapis.com)... 108.177.119.128, 108.177.126.128, 108.177.127.128, ...\n",
            "Connecting to storage.googleapis.com (storage.googleapis.com)|108.177.119.128|:443... connected.\n",
            "HTTP request sent, awaiting response... 200 OK\n",
            "Length: 149574867 (143M) [application/zip]\n",
            "Saving to: ‘/tmp/horse-or-human.zip’\n",
            "\n",
            "/tmp/horse-or-human 100%[===================>] 142.65M  57.6MB/s    in 2.5s    \n",
            "\n",
            "2022-01-25 16:49:13 (57.6 MB/s) - ‘/tmp/horse-or-human.zip’ saved [149574867/149574867]\n",
            "\n",
            "--2022-01-25 16:49:13--  https://storage.googleapis.com/laurencemoroney-blog.appspot.com/validation-horse-or-human.zip\n",
            "Resolving storage.googleapis.com (storage.googleapis.com)... 142.250.153.128, 142.250.145.128, 173.194.69.128, ...\n",
            "Connecting to storage.googleapis.com (storage.googleapis.com)|142.250.153.128|:443... connected.\n",
            "HTTP request sent, awaiting response... 200 OK\n",
            "Length: 11480187 (11M) [application/zip]\n",
            "Saving to: ‘/tmp/validation-horse-or-human.zip’\n",
            "\n",
            "/tmp/validation-hor 100%[===================>]  10.95M  18.1MB/s    in 0.6s    \n",
            "\n",
            "2022-01-25 16:49:14 (18.1 MB/s) - ‘/tmp/validation-horse-or-human.zip’ saved [11480187/11480187]\n",
            "\n"
          ]
        }
      ],
      "source": [
        "!wget --no-check-certificate \\\n",
        "    https://storage.googleapis.com/laurencemoroney-blog.appspot.com/horse-or-human.zip \\\n",
        "    -O /tmp/horse-or-human.zip\n",
        "\n",
        "!wget --no-check-certificate \\\n",
        "    https://storage.googleapis.com/laurencemoroney-blog.appspot.com/validation-horse-or-human.zip \\\n",
        "    -O /tmp/validation-horse-or-human.zip\n",
        "  \n",
        "import os\n",
        "import zipfile\n",
        "\n",
        "local_zip = '/tmp/horse-or-human.zip'\n",
        "zip_ref = zipfile.ZipFile(local_zip, 'r')\n",
        "zip_ref.extractall('/tmp/horse-or-human')\n",
        "local_zip = '/tmp/validation-horse-or-human.zip'\n",
        "zip_ref = zipfile.ZipFile(local_zip, 'r')\n",
        "zip_ref.extractall('/tmp/validation-horse-or-human')\n",
        "zip_ref.close()\n",
        "# Directory with our training horse pictures\n",
        "train_horse_dir = os.path.join('/tmp/horse-or-human/horses')\n",
        "\n",
        "# Directory with our training human pictures\n",
        "train_human_dir = os.path.join('/tmp/horse-or-human/humans')\n",
        "\n",
        "# Directory with our training horse pictures\n",
        "validation_horse_dir = os.path.join('/tmp/validation-horse-or-human/horses')\n",
        "\n",
        "# Directory with our training human pictures\n",
        "validation_human_dir = os.path.join('/tmp/validation-horse-or-human/humans')"
      ]
    },
    {
      "cell_type": "markdown",
      "metadata": {
        "id": "5oqBkNBJmtUv"
      },
      "source": [
        "## Building a Small Model from Scratch\n",
        "\n",
        "But before we continue, let's start defining the model:\n",
        "\n",
        "Step 1 will be to import tensorflow."
      ]
    },
    {
      "cell_type": "code",
      "execution_count": 2,
      "metadata": {
        "id": "qvfZg3LQbD-5"
      },
      "outputs": [],
      "source": [
        "import tensorflow as tf"
      ]
    },
    {
      "cell_type": "markdown",
      "metadata": {
        "id": "BnhYCP4tdqjC"
      },
      "source": [
        "We then add convolutional layers as in the previous example, and flatten the final result to feed into the densely connected layers."
      ]
    },
    {
      "cell_type": "markdown",
      "metadata": {
        "id": "gokG5HKpdtzm"
      },
      "source": [
        "Finally we add the densely connected layers. \n",
        "\n",
        "Note that because we are facing a two-class classification problem, i.e. a *binary classification problem*, we will end our network with a [*sigmoid* activation](https://wikipedia.org/wiki/Sigmoid_function), so that the output of our network will be a single scalar between 0 and 1, encoding the probability that the current image is class 1 (as opposed to class 0)."
      ]
    },
    {
      "cell_type": "code",
      "execution_count": 3,
      "metadata": {
        "id": "PixZ2s5QbYQ3"
      },
      "outputs": [],
      "source": [
        "model = tf.keras.models.Sequential([\n",
        "    # Note the input shape is the desired size of the image 300x300 with 3 bytes color\n",
        "    # This is the first convolution\n",
        "    tf.keras.layers.Conv2D(16, (3,3), activation='relu', input_shape=(300, 300, 3)),\n",
        "    tf.keras.layers.MaxPooling2D(2, 2),\n",
        "    # The second convolution\n",
        "    tf.keras.layers.Conv2D(32, (3,3), activation='relu'),\n",
        "    tf.keras.layers.MaxPooling2D(2,2),\n",
        "    # The third convolution\n",
        "    tf.keras.layers.Conv2D(64, (3,3), activation='relu'),\n",
        "    tf.keras.layers.MaxPooling2D(2,2),\n",
        "    # The fourth convolution\n",
        "    tf.keras.layers.Conv2D(64, (3,3), activation='relu'),\n",
        "    tf.keras.layers.MaxPooling2D(2,2),\n",
        "    # The fifth convolution\n",
        "    tf.keras.layers.Conv2D(64, (3,3), activation='relu'),\n",
        "    tf.keras.layers.MaxPooling2D(2,2),\n",
        "    # Flatten the results to feed into a DNN\n",
        "    tf.keras.layers.Flatten(),\n",
        "    # 512 neuron hidden layer\n",
        "    tf.keras.layers.Dense(512, activation='relu'),\n",
        "    # Only 1 output neuron. It will contain a value from 0-1 where 0 for 1 class ('horses') and 1 for the other ('humans')\n",
        "    tf.keras.layers.Dense(1, activation='sigmoid')\n",
        "])"
      ]
    },
    {
      "cell_type": "code",
      "execution_count": 4,
      "metadata": {
        "colab": {
          "base_uri": "https://localhost:8080/"
        },
        "id": "8DHWhFP_uhq3",
        "outputId": "0ec047d3-cd01-440f-e0ef-2ef29e349edb"
      },
      "outputs": [
        {
          "output_type": "stream",
          "name": "stderr",
          "text": [
            "/usr/local/lib/python3.7/dist-packages/keras/optimizer_v2/rmsprop.py:130: UserWarning: The `lr` argument is deprecated, use `learning_rate` instead.\n",
            "  super(RMSprop, self).__init__(name, **kwargs)\n"
          ]
        }
      ],
      "source": [
        "from tensorflow.keras.optimizers import RMSprop\n",
        "\n",
        "model.compile(loss='binary_crossentropy',\n",
        "              optimizer=RMSprop(lr=1e-4),\n",
        "              metrics=['accuracy'])"
      ]
    },
    {
      "cell_type": "code",
      "execution_count": 5,
      "metadata": {
        "colab": {
          "base_uri": "https://localhost:8080/"
        },
        "id": "ClebU9NJg99G",
        "outputId": "bba673a0-553f-4764-ee99-3d441939489c"
      },
      "outputs": [
        {
          "output_type": "stream",
          "name": "stdout",
          "text": [
            "Found 1027 images belonging to 2 classes.\n",
            "Found 256 images belonging to 2 classes.\n"
          ]
        }
      ],
      "source": [
        "from tensorflow.keras.preprocessing.image import ImageDataGenerator\n",
        "\n",
        "# All images will be rescaled by 1./255\n",
        "train_datagen = ImageDataGenerator(\n",
        "      rescale=1./255,\n",
        "      rotation_range=40,\n",
        "      width_shift_range=0.2,\n",
        "      height_shift_range=0.2,\n",
        "      shear_range=0.2,\n",
        "      zoom_range=0.2,\n",
        "      horizontal_flip=True,\n",
        "      fill_mode='nearest')\n",
        "\n",
        "validation_datagen = ImageDataGenerator(rescale=1/255)\n",
        "\n",
        "# Flow training images in batches of 128 using train_datagen generator\n",
        "train_generator = train_datagen.flow_from_directory(\n",
        "        '/tmp/horse-or-human/',  # This is the source directory for training images\n",
        "        target_size=(300, 300),  # All images will be resized to 150x150\n",
        "        batch_size=128,\n",
        "        # Since we use binary_crossentropy loss, we need binary labels\n",
        "        class_mode='binary')\n",
        "\n",
        "# Flow training images in batches of 128 using train_datagen generator\n",
        "validation_generator = validation_datagen.flow_from_directory(\n",
        "        '/tmp/validation-horse-or-human/',  # This is the source directory for training images\n",
        "        target_size=(300, 300),  # All images will be resized to 150x150\n",
        "        batch_size=32,\n",
        "        # Since we use binary_crossentropy loss, we need binary labels\n",
        "        class_mode='binary')"
      ]
    },
    {
      "cell_type": "code",
      "execution_count": 6,
      "metadata": {
        "colab": {
          "base_uri": "https://localhost:8080/"
        },
        "id": "Fb1_lgobv81m",
        "outputId": "32d3345f-dd46-4a47-a8e6-e919cdba7b0a"
      },
      "outputs": [
        {
          "output_type": "stream",
          "name": "stdout",
          "text": [
            "Epoch 1/100\n",
            "8/8 [==============================] - 32s 2s/step - loss: 0.6906 - accuracy: 0.5039 - val_loss: 0.6781 - val_accuracy: 0.5273\n",
            "Epoch 2/100\n",
            "8/8 [==============================] - 21s 3s/step - loss: 0.6802 - accuracy: 0.6085 - val_loss: 0.6899 - val_accuracy: 0.5000\n",
            "Epoch 3/100\n",
            "8/8 [==============================] - 21s 3s/step - loss: 0.6803 - accuracy: 0.5962 - val_loss: 0.6193 - val_accuracy: 0.8203\n",
            "Epoch 4/100\n",
            "8/8 [==============================] - 21s 3s/step - loss: 0.6506 - accuracy: 0.6062 - val_loss: 0.6089 - val_accuracy: 0.6289\n",
            "Epoch 5/100\n",
            "8/8 [==============================] - 21s 3s/step - loss: 0.6218 - accuracy: 0.7519 - val_loss: 0.7716 - val_accuracy: 0.5000\n",
            "Epoch 6/100\n",
            "8/8 [==============================] - 21s 3s/step - loss: 0.5899 - accuracy: 0.7341 - val_loss: 0.5432 - val_accuracy: 0.5117\n",
            "Epoch 7/100\n",
            "8/8 [==============================] - 21s 3s/step - loss: 0.5984 - accuracy: 0.7152 - val_loss: 0.5617 - val_accuracy: 0.6875\n",
            "Epoch 8/100\n",
            "8/8 [==============================] - 21s 3s/step - loss: 0.5980 - accuracy: 0.6930 - val_loss: 0.5243 - val_accuracy: 0.7266\n",
            "Epoch 9/100\n",
            "8/8 [==============================] - 21s 3s/step - loss: 0.5624 - accuracy: 0.7508 - val_loss: 0.5850 - val_accuracy: 0.6758\n",
            "Epoch 10/100\n",
            "8/8 [==============================] - 21s 3s/step - loss: 0.5248 - accuracy: 0.7697 - val_loss: 0.3565 - val_accuracy: 0.8633\n",
            "Epoch 11/100\n",
            "8/8 [==============================] - 21s 3s/step - loss: 0.5456 - accuracy: 0.7219 - val_loss: 0.7404 - val_accuracy: 0.6133\n",
            "Epoch 12/100\n",
            "8/8 [==============================] - 21s 3s/step - loss: 0.4914 - accuracy: 0.7987 - val_loss: 0.7426 - val_accuracy: 0.6602\n",
            "Epoch 13/100\n",
            "8/8 [==============================] - 23s 3s/step - loss: 0.4648 - accuracy: 0.7920 - val_loss: 0.8435 - val_accuracy: 0.6445\n",
            "Epoch 14/100\n",
            "8/8 [==============================] - 21s 3s/step - loss: 0.4944 - accuracy: 0.7664 - val_loss: 0.6168 - val_accuracy: 0.7461\n",
            "Epoch 15/100\n",
            "8/8 [==============================] - 21s 3s/step - loss: 0.5269 - accuracy: 0.7631 - val_loss: 0.9197 - val_accuracy: 0.6133\n",
            "Epoch 16/100\n",
            "8/8 [==============================] - 21s 3s/step - loss: 0.4900 - accuracy: 0.7686 - val_loss: 0.9587 - val_accuracy: 0.6055\n",
            "Epoch 17/100\n",
            "8/8 [==============================] - 21s 3s/step - loss: 0.4368 - accuracy: 0.8220 - val_loss: 0.8046 - val_accuracy: 0.6758\n",
            "Epoch 18/100\n",
            "8/8 [==============================] - 21s 3s/step - loss: 0.4558 - accuracy: 0.8098 - val_loss: 0.9244 - val_accuracy: 0.6445\n",
            "Epoch 19/100\n",
            "8/8 [==============================] - 21s 3s/step - loss: 0.4537 - accuracy: 0.7931 - val_loss: 1.2003 - val_accuracy: 0.5859\n",
            "Epoch 20/100\n",
            "8/8 [==============================] - 21s 3s/step - loss: 0.3972 - accuracy: 0.8343 - val_loss: 1.1428 - val_accuracy: 0.6250\n",
            "Epoch 21/100\n",
            "8/8 [==============================] - 21s 3s/step - loss: 0.4165 - accuracy: 0.8031 - val_loss: 0.8634 - val_accuracy: 0.6758\n",
            "Epoch 22/100\n",
            "8/8 [==============================] - 21s 3s/step - loss: 0.4150 - accuracy: 0.8098 - val_loss: 0.7471 - val_accuracy: 0.7227\n",
            "Epoch 23/100\n",
            "8/8 [==============================] - 21s 3s/step - loss: 0.4200 - accuracy: 0.8020 - val_loss: 1.6244 - val_accuracy: 0.5469\n",
            "Epoch 24/100\n",
            "8/8 [==============================] - 21s 3s/step - loss: 0.3784 - accuracy: 0.8309 - val_loss: 1.8678 - val_accuracy: 0.5469\n",
            "Epoch 25/100\n",
            "8/8 [==============================] - 21s 3s/step - loss: 0.4209 - accuracy: 0.8042 - val_loss: 1.2207 - val_accuracy: 0.6289\n",
            "Epoch 26/100\n",
            "8/8 [==============================] - 22s 3s/step - loss: 0.4140 - accuracy: 0.8053 - val_loss: 1.0458 - val_accuracy: 0.6602\n",
            "Epoch 27/100\n",
            "8/8 [==============================] - 21s 3s/step - loss: 0.3583 - accuracy: 0.8532 - val_loss: 1.1754 - val_accuracy: 0.6680\n",
            "Epoch 28/100\n",
            "8/8 [==============================] - 21s 3s/step - loss: 0.3736 - accuracy: 0.8331 - val_loss: 0.9156 - val_accuracy: 0.7344\n",
            "Epoch 29/100\n",
            "8/8 [==============================] - 21s 3s/step - loss: 0.3886 - accuracy: 0.8209 - val_loss: 1.2004 - val_accuracy: 0.6719\n",
            "Epoch 30/100\n",
            "8/8 [==============================] - 23s 3s/step - loss: 0.3512 - accuracy: 0.8398 - val_loss: 1.7144 - val_accuracy: 0.5898\n",
            "Epoch 31/100\n",
            "8/8 [==============================] - 21s 3s/step - loss: 0.3416 - accuracy: 0.8387 - val_loss: 1.5688 - val_accuracy: 0.6289\n",
            "Epoch 32/100\n",
            "8/8 [==============================] - 21s 3s/step - loss: 0.3441 - accuracy: 0.8487 - val_loss: 1.6814 - val_accuracy: 0.6094\n",
            "Epoch 33/100\n",
            "8/8 [==============================] - 21s 3s/step - loss: 0.3742 - accuracy: 0.8165 - val_loss: 1.2836 - val_accuracy: 0.6523\n",
            "Epoch 34/100\n",
            "8/8 [==============================] - 21s 3s/step - loss: 0.3186 - accuracy: 0.8598 - val_loss: 2.5293 - val_accuracy: 0.5508\n",
            "Epoch 35/100\n",
            "8/8 [==============================] - 21s 3s/step - loss: 0.3068 - accuracy: 0.8732 - val_loss: 1.5330 - val_accuracy: 0.6602\n",
            "Epoch 36/100\n",
            "8/8 [==============================] - 21s 3s/step - loss: 0.3080 - accuracy: 0.8721 - val_loss: 1.8458 - val_accuracy: 0.6133\n",
            "Epoch 37/100\n",
            "8/8 [==============================] - 21s 3s/step - loss: 0.3439 - accuracy: 0.8476 - val_loss: 1.5944 - val_accuracy: 0.6484\n",
            "Epoch 38/100\n",
            "8/8 [==============================] - 21s 3s/step - loss: 0.3173 - accuracy: 0.8587 - val_loss: 1.8031 - val_accuracy: 0.6094\n",
            "Epoch 39/100\n",
            "8/8 [==============================] - 21s 3s/step - loss: 0.3338 - accuracy: 0.8610 - val_loss: 1.6614 - val_accuracy: 0.6211\n",
            "Epoch 40/100\n",
            "8/8 [==============================] - 21s 3s/step - loss: 0.2695 - accuracy: 0.8888 - val_loss: 2.1549 - val_accuracy: 0.6055\n",
            "Epoch 41/100\n",
            "8/8 [==============================] - 21s 3s/step - loss: 0.3181 - accuracy: 0.8610 - val_loss: 1.1117 - val_accuracy: 0.6953\n",
            "Epoch 42/100\n",
            "8/8 [==============================] - 21s 3s/step - loss: 0.3521 - accuracy: 0.8509 - val_loss: 2.1532 - val_accuracy: 0.5977\n",
            "Epoch 43/100\n",
            "8/8 [==============================] - 21s 3s/step - loss: 0.2483 - accuracy: 0.9010 - val_loss: 2.3646 - val_accuracy: 0.5859\n",
            "Epoch 44/100\n",
            "8/8 [==============================] - 21s 3s/step - loss: 0.2563 - accuracy: 0.8966 - val_loss: 2.1459 - val_accuracy: 0.6211\n",
            "Epoch 45/100\n",
            "8/8 [==============================] - 21s 3s/step - loss: 0.2933 - accuracy: 0.8754 - val_loss: 1.6537 - val_accuracy: 0.6641\n",
            "Epoch 46/100\n",
            "8/8 [==============================] - 21s 3s/step - loss: 0.2280 - accuracy: 0.9132 - val_loss: 2.0795 - val_accuracy: 0.6406\n",
            "Epoch 47/100\n",
            "8/8 [==============================] - 21s 3s/step - loss: 0.2571 - accuracy: 0.8854 - val_loss: 2.2324 - val_accuracy: 0.6055\n",
            "Epoch 48/100\n",
            "8/8 [==============================] - 21s 3s/step - loss: 0.2724 - accuracy: 0.8743 - val_loss: 2.0572 - val_accuracy: 0.6289\n",
            "Epoch 49/100\n",
            "8/8 [==============================] - 21s 3s/step - loss: 0.2736 - accuracy: 0.8877 - val_loss: 1.4617 - val_accuracy: 0.6758\n",
            "Epoch 50/100\n",
            "8/8 [==============================] - 21s 3s/step - loss: 0.2271 - accuracy: 0.9055 - val_loss: 2.6898 - val_accuracy: 0.5781\n",
            "Epoch 51/100\n",
            "8/8 [==============================] - 21s 3s/step - loss: 0.3185 - accuracy: 0.8610 - val_loss: 1.5945 - val_accuracy: 0.6523\n",
            "Epoch 52/100\n",
            "8/8 [==============================] - 21s 3s/step - loss: 0.2352 - accuracy: 0.9110 - val_loss: 1.7732 - val_accuracy: 0.6602\n",
            "Epoch 53/100\n",
            "8/8 [==============================] - 21s 3s/step - loss: 0.2391 - accuracy: 0.9021 - val_loss: 1.3066 - val_accuracy: 0.7227\n",
            "Epoch 54/100\n",
            "8/8 [==============================] - 21s 3s/step - loss: 0.2744 - accuracy: 0.8743 - val_loss: 1.7582 - val_accuracy: 0.6641\n",
            "Epoch 55/100\n",
            "8/8 [==============================] - 21s 3s/step - loss: 0.2166 - accuracy: 0.9121 - val_loss: 1.5722 - val_accuracy: 0.6758\n",
            "Epoch 56/100\n",
            "8/8 [==============================] - 21s 3s/step - loss: 0.2524 - accuracy: 0.8943 - val_loss: 2.0851 - val_accuracy: 0.6562\n",
            "Epoch 57/100\n",
            "8/8 [==============================] - 21s 3s/step - loss: 0.2350 - accuracy: 0.9055 - val_loss: 1.4989 - val_accuracy: 0.6797\n",
            "Epoch 58/100\n",
            "8/8 [==============================] - 23s 3s/step - loss: 0.2060 - accuracy: 0.9180 - val_loss: 2.2216 - val_accuracy: 0.6523\n",
            "Epoch 59/100\n",
            "8/8 [==============================] - 21s 3s/step - loss: 0.2945 - accuracy: 0.8877 - val_loss: 2.3197 - val_accuracy: 0.6406\n",
            "Epoch 60/100\n",
            "8/8 [==============================] - 21s 3s/step - loss: 0.1970 - accuracy: 0.9177 - val_loss: 2.2088 - val_accuracy: 0.6523\n",
            "Epoch 61/100\n",
            "8/8 [==============================] - 21s 3s/step - loss: 0.1720 - accuracy: 0.9355 - val_loss: 2.2089 - val_accuracy: 0.6406\n",
            "Epoch 62/100\n",
            "8/8 [==============================] - 23s 3s/step - loss: 0.2236 - accuracy: 0.9072 - val_loss: 1.8610 - val_accuracy: 0.6602\n",
            "Epoch 63/100\n",
            "8/8 [==============================] - 21s 3s/step - loss: 0.2417 - accuracy: 0.9032 - val_loss: 2.1191 - val_accuracy: 0.6602\n",
            "Epoch 64/100\n",
            "8/8 [==============================] - 21s 3s/step - loss: 0.1767 - accuracy: 0.9266 - val_loss: 1.8612 - val_accuracy: 0.6758\n",
            "Epoch 65/100\n",
            "8/8 [==============================] - 21s 3s/step - loss: 0.2736 - accuracy: 0.8765 - val_loss: 1.5628 - val_accuracy: 0.6719\n",
            "Epoch 66/100\n",
            "8/8 [==============================] - 21s 3s/step - loss: 0.2124 - accuracy: 0.9166 - val_loss: 1.9169 - val_accuracy: 0.6641\n",
            "Epoch 67/100\n",
            "8/8 [==============================] - 21s 3s/step - loss: 0.1748 - accuracy: 0.9388 - val_loss: 2.4673 - val_accuracy: 0.6484\n",
            "Epoch 68/100\n",
            "8/8 [==============================] - 21s 3s/step - loss: 0.1877 - accuracy: 0.9244 - val_loss: 2.2266 - val_accuracy: 0.6641\n",
            "Epoch 69/100\n",
            "8/8 [==============================] - 21s 3s/step - loss: 0.1965 - accuracy: 0.9121 - val_loss: 1.9965 - val_accuracy: 0.6641\n",
            "Epoch 70/100\n",
            "8/8 [==============================] - 23s 3s/step - loss: 0.1808 - accuracy: 0.9395 - val_loss: 1.8479 - val_accuracy: 0.6758\n",
            "Epoch 71/100\n",
            "8/8 [==============================] - 21s 3s/step - loss: 0.1915 - accuracy: 0.9232 - val_loss: 3.8001 - val_accuracy: 0.5547\n",
            "Epoch 72/100\n",
            "8/8 [==============================] - 21s 3s/step - loss: 0.2421 - accuracy: 0.8977 - val_loss: 3.2283 - val_accuracy: 0.5742\n",
            "Epoch 73/100\n",
            "8/8 [==============================] - 21s 3s/step - loss: 0.1483 - accuracy: 0.9499 - val_loss: 2.2557 - val_accuracy: 0.6641\n",
            "Epoch 74/100\n",
            "8/8 [==============================] - 21s 3s/step - loss: 0.1822 - accuracy: 0.9288 - val_loss: 3.9133 - val_accuracy: 0.5586\n",
            "Epoch 75/100\n",
            "8/8 [==============================] - 21s 3s/step - loss: 0.1847 - accuracy: 0.9299 - val_loss: 2.4019 - val_accuracy: 0.6641\n",
            "Epoch 76/100\n",
            "8/8 [==============================] - 21s 3s/step - loss: 0.1606 - accuracy: 0.9377 - val_loss: 3.4219 - val_accuracy: 0.6211\n",
            "Epoch 77/100\n",
            "8/8 [==============================] - 23s 3s/step - loss: 0.1535 - accuracy: 0.9355 - val_loss: 2.9811 - val_accuracy: 0.6445\n",
            "Epoch 78/100\n",
            "8/8 [==============================] - 21s 3s/step - loss: 0.2094 - accuracy: 0.9166 - val_loss: 2.6137 - val_accuracy: 0.6641\n",
            "Epoch 79/100\n",
            "8/8 [==============================] - 21s 3s/step - loss: 0.1366 - accuracy: 0.9544 - val_loss: 1.9403 - val_accuracy: 0.6875\n",
            "Epoch 80/100\n",
            "8/8 [==============================] - 21s 3s/step - loss: 0.1327 - accuracy: 0.9511 - val_loss: 1.9028 - val_accuracy: 0.7148\n",
            "Epoch 81/100\n",
            "8/8 [==============================] - 23s 3s/step - loss: 0.1690 - accuracy: 0.9336 - val_loss: 2.5834 - val_accuracy: 0.6641\n",
            "Epoch 82/100\n",
            "8/8 [==============================] - 23s 3s/step - loss: 0.1607 - accuracy: 0.9316 - val_loss: 2.4540 - val_accuracy: 0.6680\n",
            "Epoch 83/100\n",
            "8/8 [==============================] - 21s 3s/step - loss: 0.1406 - accuracy: 0.9422 - val_loss: 5.3463 - val_accuracy: 0.5195\n",
            "Epoch 84/100\n",
            "8/8 [==============================] - 21s 3s/step - loss: 0.2236 - accuracy: 0.9032 - val_loss: 1.9165 - val_accuracy: 0.6719\n",
            "Epoch 85/100\n",
            "8/8 [==============================] - 23s 3s/step - loss: 0.1383 - accuracy: 0.9482 - val_loss: 2.4706 - val_accuracy: 0.6680\n",
            "Epoch 86/100\n",
            "8/8 [==============================] - 21s 3s/step - loss: 0.1839 - accuracy: 0.9344 - val_loss: 2.6248 - val_accuracy: 0.6602\n",
            "Epoch 87/100\n",
            "8/8 [==============================] - 21s 3s/step - loss: 0.1363 - accuracy: 0.9522 - val_loss: 4.2100 - val_accuracy: 0.5625\n",
            "Epoch 88/100\n",
            "8/8 [==============================] - 23s 3s/step - loss: 0.1506 - accuracy: 0.9414 - val_loss: 1.5962 - val_accuracy: 0.7266\n",
            "Epoch 89/100\n",
            "8/8 [==============================] - 21s 3s/step - loss: 0.1391 - accuracy: 0.9410 - val_loss: 3.9565 - val_accuracy: 0.5703\n",
            "Epoch 90/100\n",
            "8/8 [==============================] - 21s 3s/step - loss: 0.1750 - accuracy: 0.9255 - val_loss: 2.8721 - val_accuracy: 0.6562\n",
            "Epoch 91/100\n",
            "8/8 [==============================] - 21s 3s/step - loss: 0.1433 - accuracy: 0.9466 - val_loss: 2.3434 - val_accuracy: 0.6758\n",
            "Epoch 92/100\n",
            "8/8 [==============================] - 23s 3s/step - loss: 0.1715 - accuracy: 0.9316 - val_loss: 2.2852 - val_accuracy: 0.6680\n",
            "Epoch 93/100\n",
            "8/8 [==============================] - 21s 3s/step - loss: 0.1122 - accuracy: 0.9577 - val_loss: 4.5321 - val_accuracy: 0.5586\n",
            "Epoch 94/100\n",
            "8/8 [==============================] - 21s 3s/step - loss: 0.1615 - accuracy: 0.9388 - val_loss: 3.5809 - val_accuracy: 0.6055\n",
            "Epoch 95/100\n",
            "8/8 [==============================] - 21s 3s/step - loss: 0.1460 - accuracy: 0.9433 - val_loss: 3.0532 - val_accuracy: 0.6602\n",
            "Epoch 96/100\n",
            "8/8 [==============================] - 21s 3s/step - loss: 0.2113 - accuracy: 0.9210 - val_loss: 2.3932 - val_accuracy: 0.6680\n",
            "Epoch 97/100\n",
            "8/8 [==============================] - 21s 3s/step - loss: 0.1251 - accuracy: 0.9444 - val_loss: 2.8604 - val_accuracy: 0.6641\n",
            "Epoch 98/100\n",
            "8/8 [==============================] - 23s 3s/step - loss: 0.1001 - accuracy: 0.9648 - val_loss: 3.0531 - val_accuracy: 0.6680\n",
            "Epoch 99/100\n",
            "8/8 [==============================] - 21s 3s/step - loss: 0.1166 - accuracy: 0.9499 - val_loss: 2.1006 - val_accuracy: 0.7070\n",
            "Epoch 100/100\n",
            "8/8 [==============================] - 21s 3s/step - loss: 0.1402 - accuracy: 0.9444 - val_loss: 0.7812 - val_accuracy: 0.8516\n"
          ]
        }
      ],
      "source": [
        "history = model.fit(\n",
        "      train_generator,\n",
        "      steps_per_epoch=8,  \n",
        "      epochs=100,\n",
        "      verbose=1,\n",
        "      validation_data = validation_generator,\n",
        "      validation_steps=8)"
      ]
    },
    {
      "cell_type": "code",
      "execution_count": 7,
      "metadata": {
        "colab": {
          "base_uri": "https://localhost:8080/",
          "height": 545
        },
        "id": "7zNPRWOVJdOH",
        "outputId": "9d58f8f9-761f-47f6-e1cc-c90390fb125e"
      },
      "outputs": [
        {
          "output_type": "display_data",
          "data": {
            "image/png": "[encoded data removed]",
            "text/plain": [
              "<Figure size 432x288 with 1 Axes>"
            ]
          },
          "metadata": {
            "needs_background": "light"
          }
        },
        {
          "output_type": "display_data",
          "data": {
            "image/png": "[encoded data removed]",
            "text/plain": [
              "<Figure size 432x288 with 1 Axes>"
            ]
          },
          "metadata": {
            "needs_background": "light"
          }
        }
      ],
      "source": [
        "import matplotlib.pyplot as plt\n",
        "acc = history.history['accuracy']\n",
        "val_acc = history.history['val_accuracy']\n",
        "loss = history.history['loss']\n",
        "val_loss = history.history['val_loss']\n",
        "\n",
        "epochs = range(len(acc))\n",
        "\n",
        "plt.plot(epochs, acc, 'r', label='Training accuracy')\n",
        "plt.plot(epochs, val_acc, 'b', label='Validation accuracy')\n",
        "plt.title('Training and validation accuracy')\n",
        "\n",
        "plt.figure()\n",
        "\n",
        "plt.plot(epochs, loss, 'r', label='Training Loss')\n",
        "plt.plot(epochs, val_loss, 'b', label='Validation Loss')\n",
        "plt.title('Training and validation loss')\n",
        "plt.legend()\n",
        "\n",
        "plt.show()"
      ]
    },
    {
      "cell_type": "code",
      "source": [
        ""
      ],
      "metadata": {
        "id": "mHl1Xw4kJPnL"
      },
      "execution_count": null,
      "outputs": []
    }
  ],
  "metadata": {
    "accelerator": "GPU",
    "colab": {
      "collapsed_sections": [],
      "name": "Course 2 - Part 4 - Lesson 4 - Notebook.ipynb",
      "provenance": [],
      "toc_visible": true,
      "include_colab_link": true
    },
    "kernelspec": {
      "display_name": "Python 3",
      "name": "python3"
    }
  },
  "nbformat": 4,
  "nbformat_minor": 0
}